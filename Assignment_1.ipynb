{
  "nbformat": 4,
  "nbformat_minor": 0,
  "metadata": {
    "colab": {
      "provenance": [],
      "authorship_tag": "ABX9TyNeVBezQud2RVbhSf9smw16",
      "include_colab_link": true
    },
    "kernelspec": {
      "name": "python3",
      "display_name": "Python 3"
    },
    "language_info": {
      "name": "python"
    }
  },
  "cells": [
    {
      "cell_type": "markdown",
      "metadata": {
        "id": "view-in-github",
        "colab_type": "text"
      },
      "source": [
        "<a href=\"https://colab.research.google.com/github/Mbwas-Ayuba/AWS-Cloud-Computing-TechCrush/blob/main/Assignment_1.ipynb\" target=\"_parent\"><img src=\"https://colab.research.google.com/assets/colab-badge.svg\" alt=\"Open In Colab\"/></a>"
      ]
    },
    {
      "cell_type": "markdown",
      "source": [
        "# QUESTION\n",
        "Question 1 – Concept Understanding (Written)\n",
        "# INSTRUCTION\n",
        "**Topic: Overview of Cloud Computing and Its Importance**\n",
        "\n",
        "Write a short note (200–300 words) explaining:\n",
        "\n",
        "What cloud computing is,\n",
        "\n",
        "Three real-life examples of cloud usage (e.g., Google Drive, Netflix, AWS),\n",
        "\n",
        "Two major benefits and two challenges of using cloud computing.\n",
        "\n"
      ],
      "metadata": {
        "id": "ERvoCXiLOemU"
      }
    },
    {
      "cell_type": "markdown",
      "source": [
        "# WHAT IS CLOUD COMPUTING\n",
        "Cloud is a construct (infrastructure) that allows to access application that actually resides at a remote location of another internet connected device, most often, this will be a distant datacenter.\n",
        "\n",
        "*Cloud computing refers to manipulating, configuring, and accessing the applications online. It offers online data storage, infrastructure and application and involves both a combination of software and hardware- based computing resources delivered as a network service.*"
      ],
      "metadata": {
        "id": "duSvU477PUBB"
      }
    },
    {
      "cell_type": "markdown",
      "source": [
        "# THREE LIFE EXAMPLES OF CLOUD COMPUTING\n",
        "# Example 1: Google Drive\n",
        "\n",
        "Google Drive is a cloud-based storage and synchronization service that lets users securely store, share, and collaborate on files from any device. Integrated with Google Workspace tools like Docs, Sheets, and Slides, it enables real-time teamwork with automatic synchronization across devices. This removes the need for physical storage and ensures data security through Google’s advanced encryption systems.\n",
        "# Example 2: Netflix\n",
        "\n",
        "Netflix uses cloud computing to stream movies and TV shows to millions of users worldwide. Hosted on Amazon Web Services (AWS), it leverages scalable computing and storage resources to deliver smooth streaming and personalized recommendations. By serving content from the nearest data centers, Netflix minimizes latency and ensures uninterrupted viewing experiences globally.\n",
        "# Example 3: Amazon Web Services (AWS)\n",
        "\n",
        "AWS offers a wide range of cloud services that help developers build, deploy, and scale applications efficiently. Services like Amazon EC2, S3, and RDS provide computing power, storage, and database management. Businesses can scale resources on demand and pay only for what they use, ensuring flexibility, reliability, and cost-effectiveness."
      ],
      "metadata": {
        "id": "c5FagctwPuQq"
      }
    },
    {
      "cell_type": "markdown",
      "source": [
        "# BENEFITS OF CLOUD COMPUTING\n",
        "# Cost Efficiency:\n",
        " The biggest reason behind companies shifting to cloud computing is that it takes considerably lesser cost than any on-premise technology. Now, companies need not store data in disks anymore as the cloud offers enormous storage space, saving money and resources.\n",
        "# Back-up and Restore data:\n",
        "Once data is stored in the cloud, it is easier to get its back-up and recovery, which is quite a time-consuming process in on-premise technology."
      ],
      "metadata": {
        "id": "f5CCC6ZPQGzx"
      }
    },
    {
      "cell_type": "markdown",
      "source": [
        "# CHALLENGES OF CLOUD COMPUTING\n",
        "# Vulnerability to Attacks:\n",
        "Storing data in the cloud may pose serious challenges of information theft since in the cloud every data of a company is online. Security breach is something that even the best organizations have suffered from and it’s a potential risk in the cloud as well. Although advanced security measures are deployed on the cloud, still storing confidential data in the cloud can be a risky affair.\n",
        "# Downtime:\n",
        "Downtime is considered as one of the biggest potential downsides of using cloud computing. The cloud providers may sometimes face technical outages that can happen due to various reasons, such as loss of power, low Internet connectivity, data centers going out of service for maintenance, etc. This can lead to a temporary downtime in the cloud service.\n"
      ],
      "metadata": {
        "id": "3T385oqWQeyZ"
      }
    },
    {
      "cell_type": "code",
      "execution_count": null,
      "metadata": {
        "id": "1ftT0pw5OY6H"
      },
      "outputs": [],
      "source": []
    }
  ]
}